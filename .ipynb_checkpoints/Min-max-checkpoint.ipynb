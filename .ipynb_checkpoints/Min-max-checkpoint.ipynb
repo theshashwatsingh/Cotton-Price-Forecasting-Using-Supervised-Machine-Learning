{
 "cells": [
  {
   "cell_type": "code",
   "execution_count": 1,
   "metadata": {},
   "outputs": [],
   "source": [
    "import pandas as pd\n",
    "import numpy as np\n",
    "import matplotlib.pyplot as plt\n",
    "import joblib as jb\n",
    "from datetime import datetime\n",
    "from sklearn import tree\n",
    "import  pickle"
   ]
  },
  {
   "cell_type": "code",
   "execution_count": 6,
   "metadata": {},
   "outputs": [],
   "source": [
    "model = pickle.load(open('model.pkl','rb'))\n"
   ]
  },
  {
   "cell_type": "code",
   "execution_count": 4,
   "metadata": {},
   "outputs": [],
   "source": [
    "df = pd.read_csv('final 2021.csv')\n"
   ]
  },
  {
   "cell_type": "code",
   "execution_count": 7,
   "metadata": {},
   "outputs": [],
   "source": [
    "today = datetime.today()\n",
    "y = today.year\n",
    "m = today.month\n"
   ]
  },
  {
   "cell_type": "code",
   "execution_count": 8,
   "metadata": {},
   "outputs": [],
   "source": [
    "month_list  = [i for i in range(m,13)]"
   ]
  },
  {
   "cell_type": "code",
   "execution_count": 9,
   "metadata": {},
   "outputs": [
    {
     "data": {
      "text/plain": [
       "[7, 8, 9, 10, 11, 12]"
      ]
     },
     "execution_count": 9,
     "metadata": {},
     "output_type": "execute_result"
    }
   ],
   "source": [
    "month_list"
   ]
  },
  {
   "cell_type": "code",
   "execution_count": 10,
   "metadata": {},
   "outputs": [],
   "source": [
    "variety_list = [i for i in range(0,92)]\n"
   ]
  },
  {
   "cell_type": "code",
   "execution_count": 11,
   "metadata": {},
   "outputs": [
    {
     "data": {
      "text/plain": [
       "[0,\n",
       " 1,\n",
       " 2,\n",
       " 3,\n",
       " 4,\n",
       " 5,\n",
       " 6,\n",
       " 7,\n",
       " 8,\n",
       " 9,\n",
       " 10,\n",
       " 11,\n",
       " 12,\n",
       " 13,\n",
       " 14,\n",
       " 15,\n",
       " 16,\n",
       " 17,\n",
       " 18,\n",
       " 19,\n",
       " 20,\n",
       " 21,\n",
       " 22,\n",
       " 23,\n",
       " 24,\n",
       " 25,\n",
       " 26,\n",
       " 27,\n",
       " 28,\n",
       " 29,\n",
       " 30,\n",
       " 31,\n",
       " 32,\n",
       " 33,\n",
       " 34,\n",
       " 35,\n",
       " 36,\n",
       " 37,\n",
       " 38,\n",
       " 39,\n",
       " 40,\n",
       " 41,\n",
       " 42,\n",
       " 43,\n",
       " 44,\n",
       " 45,\n",
       " 46,\n",
       " 47,\n",
       " 48,\n",
       " 49,\n",
       " 50,\n",
       " 51,\n",
       " 52,\n",
       " 53,\n",
       " 54,\n",
       " 55,\n",
       " 56,\n",
       " 57,\n",
       " 58,\n",
       " 59,\n",
       " 60,\n",
       " 61,\n",
       " 62,\n",
       " 63,\n",
       " 64,\n",
       " 65,\n",
       " 66,\n",
       " 67,\n",
       " 68,\n",
       " 69,\n",
       " 70,\n",
       " 71,\n",
       " 72,\n",
       " 73,\n",
       " 74,\n",
       " 75,\n",
       " 76,\n",
       " 77,\n",
       " 78,\n",
       " 79,\n",
       " 80,\n",
       " 81,\n",
       " 82,\n",
       " 83,\n",
       " 84,\n",
       " 85,\n",
       " 86,\n",
       " 87,\n",
       " 88,\n",
       " 89,\n",
       " 90,\n",
       " 91]"
      ]
     },
     "execution_count": 11,
     "metadata": {},
     "output_type": "execute_result"
    }
   ],
   "source": [
    "variety_list"
   ]
  },
  {
   "cell_type": "code",
   "execution_count": 9,
   "metadata": {},
   "outputs": [],
   "source": [
    "state_list = [i for i in range(0,11)]"
   ]
  },
  {
   "cell_type": "code",
   "execution_count": 10,
   "metadata": {},
   "outputs": [
    {
     "data": {
      "text/plain": [
       "[0, 1, 2, 3, 4, 5, 6, 7, 8, 9, 10]"
      ]
     },
     "execution_count": 10,
     "metadata": {},
     "output_type": "execute_result"
    }
   ],
   "source": [
    "state_list"
   ]
  },
  {
   "cell_type": "code",
   "execution_count": 11,
   "metadata": {},
   "outputs": [
    {
     "data": {
      "text/html": [
       "<div>\n",
       "<style scoped>\n",
       "    .dataframe tbody tr th:only-of-type {\n",
       "        vertical-align: middle;\n",
       "    }\n",
       "\n",
       "    .dataframe tbody tr th {\n",
       "        vertical-align: top;\n",
       "    }\n",
       "\n",
       "    .dataframe thead th {\n",
       "        text-align: right;\n",
       "    }\n",
       "</style>\n",
       "<table border=\"1\" class=\"dataframe\">\n",
       "  <thead>\n",
       "    <tr style=\"text-align: right;\">\n",
       "      <th></th>\n",
       "      <th>Production_Year</th>\n",
       "      <th>Month</th>\n",
       "      <th>States_In_Number</th>\n",
       "      <th>Variety_Rank</th>\n",
       "      <th>Modal Price</th>\n",
       "    </tr>\n",
       "  </thead>\n",
       "  <tbody>\n",
       "    <tr>\n",
       "      <th>0</th>\n",
       "      <td>2009</td>\n",
       "      <td>11</td>\n",
       "      <td>10</td>\n",
       "      <td>70</td>\n",
       "      <td>3048.571429</td>\n",
       "    </tr>\n",
       "    <tr>\n",
       "      <th>1</th>\n",
       "      <td>2009</td>\n",
       "      <td>12</td>\n",
       "      <td>9</td>\n",
       "      <td>70</td>\n",
       "      <td>3280.000000</td>\n",
       "    </tr>\n",
       "    <tr>\n",
       "      <th>2</th>\n",
       "      <td>2009</td>\n",
       "      <td>4</td>\n",
       "      <td>4</td>\n",
       "      <td>74</td>\n",
       "      <td>2493.000000</td>\n",
       "    </tr>\n",
       "    <tr>\n",
       "      <th>3</th>\n",
       "      <td>2009</td>\n",
       "      <td>3</td>\n",
       "      <td>4</td>\n",
       "      <td>74</td>\n",
       "      <td>2391.000000</td>\n",
       "    </tr>\n",
       "    <tr>\n",
       "      <th>4</th>\n",
       "      <td>2009</td>\n",
       "      <td>6</td>\n",
       "      <td>4</td>\n",
       "      <td>14</td>\n",
       "      <td>2414.666667</td>\n",
       "    </tr>\n",
       "    <tr>\n",
       "      <th>...</th>\n",
       "      <td>...</td>\n",
       "      <td>...</td>\n",
       "      <td>...</td>\n",
       "      <td>...</td>\n",
       "      <td>...</td>\n",
       "    </tr>\n",
       "    <tr>\n",
       "      <th>46150</th>\n",
       "      <td>2021</td>\n",
       "      <td>1</td>\n",
       "      <td>8</td>\n",
       "      <td>57</td>\n",
       "      <td>5517.000000</td>\n",
       "    </tr>\n",
       "    <tr>\n",
       "      <th>46151</th>\n",
       "      <td>2021</td>\n",
       "      <td>1</td>\n",
       "      <td>8</td>\n",
       "      <td>57</td>\n",
       "      <td>5517.000000</td>\n",
       "    </tr>\n",
       "    <tr>\n",
       "      <th>46152</th>\n",
       "      <td>2021</td>\n",
       "      <td>1</td>\n",
       "      <td>8</td>\n",
       "      <td>57</td>\n",
       "      <td>5552.000000</td>\n",
       "    </tr>\n",
       "    <tr>\n",
       "      <th>46153</th>\n",
       "      <td>2021</td>\n",
       "      <td>2</td>\n",
       "      <td>8</td>\n",
       "      <td>57</td>\n",
       "      <td>5150.000000</td>\n",
       "    </tr>\n",
       "    <tr>\n",
       "      <th>46154</th>\n",
       "      <td>2021</td>\n",
       "      <td>1</td>\n",
       "      <td>5</td>\n",
       "      <td>64</td>\n",
       "      <td>5480.000000</td>\n",
       "    </tr>\n",
       "  </tbody>\n",
       "</table>\n",
       "<p>46155 rows × 5 columns</p>\n",
       "</div>"
      ],
      "text/plain": [
       "       Production_Year  Month  States_In_Number  Variety_Rank  Modal Price\n",
       "0                 2009     11                10            70  3048.571429\n",
       "1                 2009     12                 9            70  3280.000000\n",
       "2                 2009      4                 4            74  2493.000000\n",
       "3                 2009      3                 4            74  2391.000000\n",
       "4                 2009      6                 4            14  2414.666667\n",
       "...                ...    ...               ...           ...          ...\n",
       "46150             2021      1                 8            57  5517.000000\n",
       "46151             2021      1                 8            57  5517.000000\n",
       "46152             2021      1                 8            57  5552.000000\n",
       "46153             2021      2                 8            57  5150.000000\n",
       "46154             2021      1                 5            64  5480.000000\n",
       "\n",
       "[46155 rows x 5 columns]"
      ]
     },
     "execution_count": 11,
     "metadata": {},
     "output_type": "execute_result"
    }
   ],
   "source": [
    "df"
   ]
  },
  {
   "cell_type": "code",
   "execution_count": null,
   "metadata": {},
   "outputs": [],
   "source": [
    "\n"
   ]
  },
  {
   "cell_type": "code",
   "execution_count": null,
   "metadata": {},
   "outputs": [],
   "source": []
  },
  {
   "cell_type": "code",
   "execution_count": null,
   "metadata": {},
   "outputs": [],
   "source": []
  },
  {
   "cell_type": "code",
   "execution_count": 12,
   "metadata": {},
   "outputs": [],
   "source": [
    "dict = {}"
   ]
  },
  {
   "cell_type": "code",
   "execution_count": 13,
   "metadata": {},
   "outputs": [],
   "source": [
    "for i in state_list:\n",
    "    list = df['Variety_Rank'][df['States_In_Number'] == i].unique()\n",
    "    dict[i] = list\n",
    "    "
   ]
  },
  {
   "cell_type": "code",
   "execution_count": 14,
   "metadata": {},
   "outputs": [
    {
     "data": {
      "text/plain": [
       "{0: array([29, 57, 15, 65, 56, 63, 34, 70, 73, 68, 83], dtype=int64),\n",
       " 1: array([15, 19, 22, 56, 57, 65, 29,  9, 44, 20, 24, 53, 35,  1, 45,  2,  3,\n",
       "        14, 16, 76, 68, 42, 55, 21, 27,  6, 71, 86, 51, 25, 52, 54, 63, 32,\n",
       "        34, 50, 48, 30, 90, 75, 59, 18, 38, 69, 33, 70,  5, 31, 58, 13, 17,\n",
       "        11, 23, 79, 80, 46, 67, 73, 81, 89], dtype=int64),\n",
       " 2: array([68, 29, 57, 12, 86, 56, 75, 39, 10, 45, 55, 24, 15, 22, 80,  1, 36,\n",
       "        42, 34, 60, 69, 91, 84,  9, 81, 82, 78, 53, 73, 63, 58],\n",
       "       dtype=int64),\n",
       " 3: array([57,  9, 28, 86, 65, 50, 75, 70, 63, 69, 42, 61, 36, 56, 39, 83, 77,\n",
       "        81, 60, 78, 67], dtype=int64),\n",
       " 4: array([74, 14, 72, 66, 57, 43, 46,  0, 51, 58, 67, 18, 90, 36, 29, 25, 47,\n",
       "        42,  8, 55, 52,  9, 31, 44], dtype=int64),\n",
       " 5: array([57, 64, 49,  5, 16, 11, 48, 65,  4, 12, 56, 18, 76, 69, 28, 23, 58,\n",
       "        50,  7, 53, 62, 27, 61, 34, 70, 84, 81, 73, 78, 59, 85, 42, 88],\n",
       "       dtype=int64),\n",
       " 6: array([65, 56, 53, 19, 35, 25, 57, 42, 63, 32, 86, 48, 50, 69, 45, 33, 51,\n",
       "        22, 54, 40, 46, 55, 79,  9, 59, 41, 16,  5, 75, 27, 38, 37, 24, 21,\n",
       "        10, 71, 76, 20, 82, 11, 23, 89, 81, 73, 78, 83], dtype=int64),\n",
       " 7: array([26, 65, 70, 57, 46,  9, 18, 56, 87, 84, 81], dtype=int64),\n",
       " 8: array([57, 39, 55, 67, 44, 45, 60, 50, 86, 71, 65], dtype=int64),\n",
       " 9: array([70, 42, 57, 65,  9, 24, 84, 81], dtype=int64),\n",
       " 10: array([70, 57, 65, 66, 64, 24, 23,  9, 63, 71, 87, 82, 81], dtype=int64)}"
      ]
     },
     "execution_count": 14,
     "metadata": {},
     "output_type": "execute_result"
    }
   ],
   "source": [
    "dict"
   ]
  },
  {
   "cell_type": "code",
   "execution_count": 15,
   "metadata": {},
   "outputs": [],
   "source": [
    "pred = {}"
   ]
  },
  {
   "cell_type": "code",
   "execution_count": 16,
   "metadata": {},
   "outputs": [],
   "source": [
    "minp =99999\n",
    "maxp =0\n",
    "mins = -1\n",
    "minv = -1\n",
    "maxs = -1\n",
    "maxv = -1\n",
    "for m in month_list:\n",
    "    minp =99999\n",
    "    maxp = 0\n",
    "    mins = -1\n",
    "    minv = -1\n",
    "    maxs = -1\n",
    "    maxv = -1\n",
    "    for s in state_list:\n",
    "        for v in dict[s]:\n",
    "            predic = model.predict([[y,m,s,v]])\n",
    "            if predic>maxp:\n",
    "                                \n",
    "                                   maxp = predic\n",
    "                                   maxs = s\n",
    "                                   maxv = v\n",
    "                                   \n",
    "            if predic<minp:\n",
    "                                   minp = predic\n",
    "                                   mins = s\n",
    "                                   minv = v\n",
    "            \n",
    "            \n",
    "    pred[m] = {\"min\": [mins,minv,minp], \"max\":[maxs,maxv,maxp]}    \n",
    "    "
   ]
  },
  {
   "cell_type": "code",
   "execution_count": null,
   "metadata": {},
   "outputs": [],
   "source": []
  },
  {
   "cell_type": "code",
   "execution_count": 17,
   "metadata": {},
   "outputs": [
    {
     "data": {
      "text/plain": [
       "{7: {'min': [2, 57, array([4772.03025693])],\n",
       "  'max': [5, 84, array([6344.31481354])]},\n",
       " 8: {'min': [2, 57, array([4807.01433083])],\n",
       "  'max': [5, 84, array([6352.85926458])]},\n",
       " 9: {'min': [2, 57, array([4772.08509544])],\n",
       "  'max': [5, 84, array([6376.57711589])]},\n",
       " 10: {'min': [2, 57, array([4654.63909437])],\n",
       "  'max': [5, 84, array([6087.23092444])]},\n",
       " 11: {'min': [2, 57, array([4692.64140212])],\n",
       "  'max': [4, 90, array([6149.35770134])]},\n",
       " 12: {'min': [2, 57, array([4687.31716954])],\n",
       "  'max': [4, 90, array([6150.70264182])]}}"
      ]
     },
     "execution_count": 17,
     "metadata": {},
     "output_type": "execute_result"
    }
   ],
   "source": [
    "pred"
   ]
  },
  {
   "cell_type": "code",
   "execution_count": 95,
   "metadata": {},
   "outputs": [
    {
     "data": {
      "text/plain": [
       "array([5784.27333882])"
      ]
     },
     "execution_count": 95,
     "metadata": {},
     "output_type": "execute_result"
    }
   ],
   "source": [
    "model.predict([[2021,8,8,57]])"
   ]
  },
  {
   "cell_type": "code",
   "execution_count": 89,
   "metadata": {},
   "outputs": [
    {
     "name": "stderr",
     "output_type": "stream",
     "text": [
      "C:\\Users\\hp\\anaconda3\\lib\\site-packages\\pandas\\core\\ops\\array_ops.py:253: FutureWarning: elementwise comparison failed; returning scalar instead, but in the future will perform elementwise comparison\n",
      "  res_values = method(rvalues)\n"
     ]
    }
   ],
   "source": [
    "df21 = df[df['Production_Year']==\"2021\"]"
   ]
  },
  {
   "cell_type": "code",
   "execution_count": 90,
   "metadata": {},
   "outputs": [
    {
     "data": {
      "text/html": [
       "<div>\n",
       "<style scoped>\n",
       "    .dataframe tbody tr th:only-of-type {\n",
       "        vertical-align: middle;\n",
       "    }\n",
       "\n",
       "    .dataframe tbody tr th {\n",
       "        vertical-align: top;\n",
       "    }\n",
       "\n",
       "    .dataframe thead th {\n",
       "        text-align: right;\n",
       "    }\n",
       "</style>\n",
       "<table border=\"1\" class=\"dataframe\">\n",
       "  <thead>\n",
       "    <tr style=\"text-align: right;\">\n",
       "      <th></th>\n",
       "      <th>Production_Year</th>\n",
       "      <th>Month</th>\n",
       "      <th>States_In_Number</th>\n",
       "      <th>Variety_Rank</th>\n",
       "      <th>Modal Price</th>\n",
       "    </tr>\n",
       "  </thead>\n",
       "  <tbody>\n",
       "  </tbody>\n",
       "</table>\n",
       "</div>"
      ],
      "text/plain": [
       "Empty DataFrame\n",
       "Columns: [Production_Year, Month, States_In_Number, Variety_Rank, Modal Price]\n",
       "Index: []"
      ]
     },
     "execution_count": 90,
     "metadata": {},
     "output_type": "execute_result"
    }
   ],
   "source": [
    "df21"
   ]
  },
  {
   "cell_type": "code",
   "execution_count": null,
   "metadata": {},
   "outputs": [],
   "source": []
  },
  {
   "cell_type": "code",
   "execution_count": null,
   "metadata": {},
   "outputs": [],
   "source": []
  },
  {
   "cell_type": "code",
   "execution_count": null,
   "metadata": {},
   "outputs": [],
   "source": []
  },
  {
   "cell_type": "code",
   "execution_count": null,
   "metadata": {},
   "outputs": [],
   "source": []
  },
  {
   "cell_type": "code",
   "execution_count": null,
   "metadata": {},
   "outputs": [],
   "source": []
  }
 ],
 "metadata": {
  "kernelspec": {
   "display_name": "Python 3",
   "language": "python",
   "name": "python3"
  },
  "language_info": {
   "codemirror_mode": {
    "name": "ipython",
    "version": 3
   },
   "file_extension": ".py",
   "mimetype": "text/x-python",
   "name": "python",
   "nbconvert_exporter": "python",
   "pygments_lexer": "ipython3",
   "version": "3.7.3"
  }
 },
 "nbformat": 4,
 "nbformat_minor": 4
}
